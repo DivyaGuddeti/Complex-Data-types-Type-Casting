{
 "cells": [
  {
   "cell_type": "markdown",
   "id": "81941cc1-ff44-47ae-8b0f-e557bfc464de",
   "metadata": {},
   "source": [
    "# Complex Data Types"
   ]
  },
  {
   "cell_type": "code",
   "execution_count": 2,
   "id": "febb7244-0bd2-41bc-92e0-0be6e352186b",
   "metadata": {},
   "outputs": [],
   "source": [
    "# Boolean Data type:\n",
    "\n",
    "b = True # in Python True is considered as 1\n",
    "b1 = False # in Python False is considered as 0"
   ]
  },
  {
   "cell_type": "code",
   "execution_count": 3,
   "id": "857ceacb-d49c-47da-aafa-8274046c56ae",
   "metadata": {},
   "outputs": [
    {
     "data": {
      "text/plain": [
       "1"
      ]
     },
     "execution_count": 3,
     "metadata": {},
     "output_type": "execute_result"
    }
   ],
   "source": [
    "b + b1"
   ]
  },
  {
   "cell_type": "code",
   "execution_count": 4,
   "id": "0a854fbf-be8d-454c-bfd1-33ec6b0b822f",
   "metadata": {},
   "outputs": [
    {
     "data": {
      "text/plain": [
       "0"
      ]
     },
     "execution_count": 4,
     "metadata": {},
     "output_type": "execute_result"
    }
   ],
   "source": [
    "b * b1"
   ]
  },
  {
   "cell_type": "code",
   "execution_count": 5,
   "id": "0c130b2b-6324-4082-9ed3-3d3c544d3209",
   "metadata": {},
   "outputs": [
    {
     "name": "stdout",
     "output_type": "stream",
     "text": [
      "1\n",
      "1\n",
      "0\n",
      "0.0\n",
      "0\n"
     ]
    }
   ],
   "source": [
    "print(b+b1)\n",
    "print(b-b1)\n",
    "print(b*b1)\n",
    "print(b1/b) # Float Divison\n",
    "print(b1//b) # Int Divison"
   ]
  },
  {
   "cell_type": "code",
   "execution_count": 6,
   "id": "86789b90-4296-45da-90dd-a7f8a3253d86",
   "metadata": {},
   "outputs": [
    {
     "name": "stdout",
     "output_type": "stream",
     "text": [
      "<class 'bool'>\n"
     ]
    }
   ],
   "source": [
    "print(type(b))"
   ]
  },
  {
   "cell_type": "code",
   "execution_count": 11,
   "id": "deabf3f3-5557-44d8-816f-fb4c144a9964",
   "metadata": {},
   "outputs": [],
   "source": [
    "# Complex"
   ]
  },
  {
   "cell_type": "code",
   "execution_count": 8,
   "id": "07456523-1414-435a-a05a-e51bf970f1db",
   "metadata": {},
   "outputs": [
    {
     "data": {
      "text/plain": [
       "(10+20j)"
      ]
     },
     "execution_count": 8,
     "metadata": {},
     "output_type": "execute_result"
    }
   ],
   "source": [
    "c1 = 10 + 20j\n",
    "c1\n",
    "\n",
    "# 10 is real part\n",
    "# 20 is imaginary part\n",
    "# j is square root of -1"
   ]
  },
  {
   "cell_type": "code",
   "execution_count": 14,
   "id": "61e352ac-5601-481f-ae9c-ce88d059d70b",
   "metadata": {},
   "outputs": [
    {
     "data": {
      "text/plain": [
       "complex"
      ]
     },
     "execution_count": 14,
     "metadata": {},
     "output_type": "execute_result"
    }
   ],
   "source": [
    "type(c1)"
   ]
  },
  {
   "cell_type": "code",
   "execution_count": 16,
   "id": "a4e48d57-fff3-4578-ba80-fa8f0097b297",
   "metadata": {},
   "outputs": [
    {
     "data": {
      "text/plain": [
       "10.0"
      ]
     },
     "execution_count": 16,
     "metadata": {},
     "output_type": "execute_result"
    }
   ],
   "source": [
    "c1.real"
   ]
  },
  {
   "cell_type": "code",
   "execution_count": 17,
   "id": "548fab09-5f37-4e05-a38b-e6511c9faa09",
   "metadata": {},
   "outputs": [
    {
     "data": {
      "text/plain": [
       "20.0"
      ]
     },
     "execution_count": 17,
     "metadata": {},
     "output_type": "execute_result"
    }
   ],
   "source": [
    "c1.imag"
   ]
  },
  {
   "cell_type": "code",
   "execution_count": 18,
   "id": "19d02a88-0cc3-44a6-8ae7-e6b39948e1b4",
   "metadata": {},
   "outputs": [
    {
     "data": {
      "text/plain": [
       "<function complex.conjugate()>"
      ]
     },
     "execution_count": 18,
     "metadata": {},
     "output_type": "execute_result"
    }
   ],
   "source": [
    "c1.conjugate"
   ]
  },
  {
   "cell_type": "code",
   "execution_count": 19,
   "id": "5a47f0f7-ea6c-4f2c-a7ec-a5829a40ec57",
   "metadata": {},
   "outputs": [
    {
     "ename": "TypeError",
     "evalue": "int() argument must be a string, a bytes-like object or a real number, not 'complex'",
     "output_type": "error",
     "traceback": [
      "\u001b[1;31m---------------------------------------------------------------------------\u001b[0m",
      "\u001b[1;31mTypeError\u001b[0m                                 Traceback (most recent call last)",
      "Cell \u001b[1;32mIn[19], line 1\u001b[0m\n\u001b[1;32m----> 1\u001b[0m \u001b[38;5;28mprint\u001b[39m(\u001b[38;5;28mint\u001b[39m(\u001b[38;5;241m10\u001b[39m\u001b[38;5;241m+\u001b[39m\u001b[38;5;241m3\u001b[39mj))\n",
      "\u001b[1;31mTypeError\u001b[0m: int() argument must be a string, a bytes-like object or a real number, not 'complex'"
     ]
    }
   ],
   "source": [
    "print(int(10+3j))"
   ]
  },
  {
   "cell_type": "code",
   "execution_count": 10,
   "id": "fd9026cd-ba15-4b8a-9816-b2529d6d992d",
   "metadata": {},
   "outputs": [
    {
     "data": {
      "text/plain": [
       "complex"
      ]
     },
     "execution_count": 10,
     "metadata": {},
     "output_type": "execute_result"
    }
   ],
   "source": [
    "c1 = 10 + 20j\n",
    "\n",
    "type(c1)"
   ]
  },
  {
   "cell_type": "code",
   "execution_count": 11,
   "id": "1284c1af-8252-486b-9b8f-68dc2d722e9d",
   "metadata": {},
   "outputs": [
    {
     "data": {
      "text/plain": [
       "10.0"
      ]
     },
     "execution_count": 11,
     "metadata": {},
     "output_type": "execute_result"
    }
   ],
   "source": [
    "c1.real"
   ]
  },
  {
   "cell_type": "code",
   "execution_count": 12,
   "id": "c666d149-08a6-48f2-ace6-2f36ff24c934",
   "metadata": {},
   "outputs": [
    {
     "data": {
      "text/plain": [
       "20.0"
      ]
     },
     "execution_count": 12,
     "metadata": {},
     "output_type": "execute_result"
    }
   ],
   "source": [
    "c1.imag"
   ]
  },
  {
   "cell_type": "code",
   "execution_count": 13,
   "id": "655f0399-44b4-49e2-9d65-dd9cd2443511",
   "metadata": {},
   "outputs": [
    {
     "data": {
      "text/plain": [
       "(3+5j)"
      ]
     },
     "execution_count": 13,
     "metadata": {},
     "output_type": "execute_result"
    }
   ],
   "source": [
    "c2 = 3 + 5j\n",
    "c2"
   ]
  },
  {
   "cell_type": "code",
   "execution_count": 14,
   "id": "9c6a764e-953c-497b-b5b8-34f73d7de8cf",
   "metadata": {},
   "outputs": [
    {
     "name": "stdout",
     "output_type": "stream",
     "text": [
      "(10+20j)\n",
      "(3+5j)\n"
     ]
    }
   ],
   "source": [
    "print(c1)\n",
    "print(c2)"
   ]
  },
  {
   "cell_type": "code",
   "execution_count": 16,
   "id": "5a112c1a-8a39-4734-902c-a31fe5dc3b1a",
   "metadata": {},
   "outputs": [
    {
     "data": {
      "text/plain": [
       "(13+25j)"
      ]
     },
     "execution_count": 16,
     "metadata": {},
     "output_type": "execute_result"
    }
   ],
   "source": [
    "c1 + c2 # this will the real parts together and imaginary parts together"
   ]
  },
  {
   "cell_type": "markdown",
   "id": "5ce4380d-934e-493d-92fe-b36de3308c10",
   "metadata": {},
   "source": [
    "# Type Casting or Type Conversions"
   ]
  },
  {
   "cell_type": "code",
   "execution_count": 18,
   "id": "1cdcfc3d-ef11-48c7-b0af-4378d10b11d9",
   "metadata": {},
   "outputs": [
    {
     "data": {
      "text/plain": [
       "13"
      ]
     },
     "execution_count": 18,
     "metadata": {},
     "output_type": "execute_result"
    }
   ],
   "source": [
    "int(13.5) # converting float to int"
   ]
  },
  {
   "cell_type": "code",
   "execution_count": 23,
   "id": "629309b8-efac-4d2b-b0ce-58baa0c086fa",
   "metadata": {},
   "outputs": [],
   "source": [
    "int(3.4, 5.7) # this is invalid as type casting will allow only one parameter value at a time"
   ]
  },
  {
   "cell_type": "code",
   "execution_count": 22,
   "id": "16848050-439e-447e-a926-7f861f53296b",
   "metadata": {},
   "outputs": [
    {
     "data": {
      "text/plain": [
       "1"
      ]
     },
     "execution_count": 22,
     "metadata": {},
     "output_type": "execute_result"
    }
   ],
   "source": [
    "int(True) # bool to int"
   ]
  },
  {
   "cell_type": "code",
   "execution_count": 25,
   "id": "3a7af8ad-b2c8-4729-826e-e15e1d3660fe",
   "metadata": {},
   "outputs": [],
   "source": [
    "int(True, False) # invlaid code as we used two inputs here"
   ]
  },
  {
   "cell_type": "code",
   "execution_count": 26,
   "id": "6b50741c-cdf9-43ec-9df3-092a849f19a0",
   "metadata": {},
   "outputs": [
    {
     "data": {
      "text/plain": [
       "0"
      ]
     },
     "execution_count": 26,
     "metadata": {},
     "output_type": "execute_result"
    }
   ],
   "source": [
    "int(False)"
   ]
  },
  {
   "cell_type": "code",
   "execution_count": 28,
   "id": "c8189206-7dd1-407f-ba1d-f3204cf681a3",
   "metadata": {},
   "outputs": [
    {
     "name": "stdout",
     "output_type": "stream",
     "text": [
      "3\n",
      "1\n",
      "10\n"
     ]
    }
   ],
   "source": [
    "print(int(3.4))\n",
    "print(int(True))\n",
    "print(int('10'))"
   ]
  },
  {
   "cell_type": "code",
   "execution_count": 32,
   "id": "148da9e3-bcdd-4a55-94e7-e176350e43a4",
   "metadata": {},
   "outputs": [],
   "source": [
    "print(int(10+20j)) # invalid code as complex data type can't be converted to int"
   ]
  },
  {
   "cell_type": "code",
   "execution_count": 31,
   "id": "5c4883f0-b7a9-47dd-ae2f-73fc73793db2",
   "metadata": {},
   "outputs": [],
   "source": [
    "print(int('ten')) # invalid code as a plain text can't be converted to value"
   ]
  },
  {
   "cell_type": "code",
   "execution_count": null,
   "id": "958e502f-6e95-4ea3-8161-58c41f6fda6d",
   "metadata": {},
   "outputs": [],
   "source": [
    "# converting a string with text or a complex data type is not allowed in Python"
   ]
  }
 ],
 "metadata": {
  "kernelspec": {
   "display_name": "Python 3 (ipykernel)",
   "language": "python",
   "name": "python3"
  },
  "language_info": {
   "codemirror_mode": {
    "name": "ipython",
    "version": 3
   },
   "file_extension": ".py",
   "mimetype": "text/x-python",
   "name": "python",
   "nbconvert_exporter": "python",
   "pygments_lexer": "ipython3",
   "version": "3.12.7"
  }
 },
 "nbformat": 4,
 "nbformat_minor": 5
}
